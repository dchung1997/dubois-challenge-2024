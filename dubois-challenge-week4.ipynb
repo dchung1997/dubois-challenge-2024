{
 "cells": [
  {
   "cell_type": "code",
   "execution_count": 5,
   "metadata": {},
   "outputs": [],
   "source": [
    "import pandas as pd\n",
    "import plotly.express as px"
   ]
  },
  {
   "cell_type": "code",
   "execution_count": 115,
   "metadata": {},
   "outputs": [],
   "source": [
    "routes_df = pd.read_csv(\"./data/routes.csv\", index_col=False);\n",
    "\n",
    "results = []\n",
    "\n",
    "for index, row in routes_df.iterrows():\n",
    "    source = row['place_of_purchase']\n",
    "    destination = row['port_arrival']\n",
    "    arrival_year = row['year_arrival']\n",
    "    voyage_id = row['voyage_id']\n",
    "\n",
    "    row_data = {\n",
    "        'Voyage_Id': voyage_id,\n",
    "        'Source': source,\n",
    "        'Destination': destination,\n",
    "        'Arrival': arrival_year\n",
    "    }\n",
    "\n",
    "    results.append(row_data)\n",
    "\n",
    "df = pd.DataFrame(results)\n",
    "\n",
    "text_to_remove = ', port unspecified'\n",
    "df['Source'] = df['Source'].str.replace(text_to_remove, '') \n",
    "df['Destination'] = df['Destination'].str.replace(text_to_remove, '') \n",
    "\n",
    "conditionSourceNaN = pd.isna(df['Source'])\n",
    "conditionDestinationNaN = pd.isna(df['Destination'])\n",
    "conditionRemoved = conditionSourceNaN | conditionDestinationNaN\n",
    "\n",
    "df = df[~conditionRemoved]\n",
    "\n",
    "df.to_csv('./output_data/week4/cleaned_routes.csv', index=False)"
   ]
  },
  {
   "cell_type": "markdown",
   "metadata": {},
   "source": [
    "Let's go back to our previous approach with our semi-cleaned data."
   ]
  },
  {
   "cell_type": "code",
   "execution_count": 59,
   "metadata": {},
   "outputs": [
    {
     "name": "stdout",
     "output_type": "stream",
     "text": [
      "['Gold Coast', 'Bahia', 'Luanda', 'Rio de Janeiro', 'Africa', 'Havana', 'Barbados', 'Pernambuco', 'Jamaica', 'Benguela', 'Cabinda', 'Cuba', 'Kingston', 'Americas', 'Bonny', 'West Central Africa and St. Helena', 'Cap Francais', 'Saint John (Antigua)', 'St. Kitts', 'Whydah', 'Mozambique', 'Santiago de Cuba', 'Malembo', 'Anomabu', 'Bissau', 'Maranhao', 'Martinique', 'Cartagena', 'Gambia', 'Charleston', 'Veracruz', 'Quilimane', 'Portuguese Guinea', 'Suriname', 'Sao Tome', 'New Spain', 'Calabar', 'Spanish Americas', 'Cacheu', 'Ambriz', 'Lagos, Onim', 'Congo North', 'Cape Coast Castle', 'Cape Verde Islands', 'St. Thomas', 'Elmina', 'Dominica', 'Grenada', 'Port-au-Prince', 'Trinidad de Cuba', 'Buenos Aires', 'Ardra', 'Curacao', 'Rio de Janeiro, Sao Paulo, Santa Catarina', 'West Indies (colony unspecified)', 'Princes Island', 'Freetown', 'Matanzas', 'Windward Coast', 'Spanish Circum-Caribbean,unspecified', 'Sierra Leone estuary', 'Para', 'Montego Bay', 'Newcastle (Nevis)', 'Leogane', 'Porto Novo', 'Virginia', 'Cape Lahou', 'Loango', 'Saint-Domingue', 'Sao Tome or Princes Island', 'York River', 'Montserrat', 'Congo River', 'Basse-Terre', 'Demerara', 'Bight of Biafra and Gulf of Guinea Islands', 'New York', 'Saint-Louis', 'Montevideo', 'New Calabar', 'Cuba, south coast', 'Rio de Janeiro province', 'St. Croix', 'Maryland', 'Senegambia and offshore Atlantic', 'Rio Pongo', 'Cayes (Les)', 'St. Vincent', 'Puerto Rico', 'Badagry/Apa', 'Iles de Los', 'Madagascar', 'Goree', 'Gallinhas', 'Trinidad', 'Benin', 'Savannah', 'Danish West Indies, colony unspecified', 'Christiansborg', 'Bahia Honda', 'Bassa', 'Epe', 'Cayenne', 'Cabanas', 'Cape of Good Hope', 'St. Eustatius', 'Saint-Marc', 'Campos', 'Macae', 'Cameroons', 'Bight of Benin', 'Rappahannock', 'British Caribbean, colony unspecified', 'Sagua', 'Ponta Negro', 'San Domingo (a) Santo Domingo', 'Isla de Pinas', 'French Caribbean, colony unspecified', 'Cardenas', 'Ilha Grande', 'Jacquin', 'Upper James River', 'La Guaira', 'Inhambane', 'Danish Gold Coast', 'Cape Mount (Cape Grand Mount)', 'Hispaniola, unspecified', 'Americas, region unspecified', 'Puerto Padre', 'Mariel', 'Bahamas', 'Sierra Leone', 'Little Popo', 'Boston', 'Windward Coast (Nunez - Assini)', 'Sao Sebastiao', 'Lourenco Marques', 'Essequibo', 'St. Helena', 'Gabon', 'Berbice', 'Cameroons River', 'Port Royal', 'Florida', 'Sherbro', 'Tortola', 'Gold Coast + Bight of Benin + Bight of Biafra', 'Zion Hill', 'Margarita', 'Southeast Africa and Indian Ocean islands', 'Popo', 'Taipu', 'Gold Coast east of Kormantine', 'Rhode Island', 'Cabo Frio', 'Kormantine', 'Paraiba', \"Bance Island (Ben's Island)\", 'St. Lucia', 'Philadelphia', 'Zanzibar', 'Portobelo', 'Caracas', 'River Brass', 'Rio Zaire', 'Catuamo and Maria Farinha', 'Cap Lopez', 'Lisbon', 'Cuba, west coast', 'Caribbean (colony unspecified)', 'Annapolis', 'Accra', 'Petit-Goave', 'Rio de la Hacha', 'Rio Nun', 'Santos', 'Kilwa', 'Boary', 'Bights', 'Spanish Caribbean, unspecified', 'Savanna la Mar', 'Patuxent', 'Jacmel', 'Mpinda', 'Copacabana', 'South Carolina', 'New Orleans', 'Venezuela', 'Banana Islands', 'Axim', 'Apammin', 'Rio Sao Jeso', 'Rio de la Plata', 'Guanimar', 'Batabano', 'Banes', 'Port-de-Paix', 'Oxford', 'Mississippi', 'Nova Redonda', 'Colonia de Sacramento', 'Grand Mesurado', 'La Balise', 'Lower James River', 'Liberia', 'Lucea (a) St. Lucea', 'Cabo de Buzios', 'USA, location unspecified', 'South Potomac', 'Dutch Guianas, colony unspecified', 'Biloxi', 'St. Maarten', 'Louisiana', 'Pensacola', 'River del Rey', 'Rio Nunez', 'Baia de Sepetiba', 'Momboza or Zanzibar', 'Mano', 'Paranagua', 'Mangaratiba', 'Keta', 'Grand Sestos', 'Grand Bassa', 'Paramaribo', 'Black River', 'North Potomac', 'Cadiz', 'Antigua', 'Bimbia', 'Tobago', 'Santa Marta', 'San Juan de los Remedios', 'North Carolina', 'Guadeloupe', 'Eastern New Jersey', 'Canasi', 'British Leewards', 'West of Cape Apolonia', 'Marica', 'Jeremie', 'St. Augustine', 'Rio Forcados', 'Quirimba', 'Ilha de Marambaia', 'Quaqua', 'Pokesoe (Princes Town)', 'Tenerife', 'Mauritius (Ile de France)', 'Madeira', 'Ubatuba', 'Parati', 'Ilha de Itamaric', 'Guatemala', 'Cumana', 'Baia de Botafogo', 'Little Bassa', 'Iles Plantain', 'Ife', 'Fort Dauphin', 'Falmouth (Jam.)', 'Martha Brae', 'Hampton', 'Beaufort', 'French Africa (Goree or Senegal)', 'Cul-de-Sac', 'Corisco', 'Key West', 'Cess', 'San Juan', 'Calabary', 'Antonia', 'Matanzas province, south', 'Alampo', 'Trujillo', 'St. Barthelemy', 'Spanish Town', 'Rio Grande do Sul Province', 'Ocoa', 'Middletown', 'Londontowne', 'Hamilton (Bermuda)', 'Gustavia, St. Barthelemy', 'Georgia', 'Delaware River', 'Baracoa', '???', 'Annotto Bay', 'New London', 'Wiamba', 'Mobile', 'Magari, Manzanillo', 'British Honduras', 'Samana', \"Saint Ann's Bay\", 'Maldonado', 'Lima', 'France', 'Cumingsberg', 'Campeche', 'Alagoas province', 'Trade Town', 'Touau-Toro (location undetermined)', 'Tabou', 'Sugary (Siekere)', 'St. Paul', 'St. Lawrence', 'Soyo', 'Sofala', 'Newport', 'Port Maria', 'Canary Islands', 'Arcahaie', 'Settra Kru', 'Senegambia or Sierra Leone', 'Le Havre', 'Scarcies', 'Sassandra', 'Lagos', 'Salinas', 'River Kissey', 'Nassau', 'Rio Grande', 'Rio Dande (N of Luanda)', 'Rio Assini', 'Southeast Brazil', 'Quicombo', 'Princes Island and Elmina', 'Portudal', 'place_of_purchase', 'port_arrival', 'Petit Mesurado', 'Penido', 'Oere', 'Dutch Caribbean, colony unspecified', 'Ile de France', 'Cienfuegos', 'Cananeia', 'Mayumba', 'Mascarene Islands', 'Perth Amboy', 'Santo Tomas', 'Porto de Galinhas', 'Ilha de Paqueta', 'Ilha de Lobes', 'Ilha das Palmas', 'Mole Saint Nicolas', 'Little Junk', 'Legas', 'Lay', 'Maceio', 'Kilongo', 'Joal, or Saloum River', 'Ivory Coast', 'Ibo', 'Gulf of Guinea islands', 'Grenada Point', 'Grand Popo', 'Bissagos', 'Grand Junk', 'Grand Bassam', 'Stabroek', 'Portugal', 'Nevis', 'Kingston (Demerera)', 'Caribbean', 'Piscataqua', 'Amelia Island', 'Galam', 'Formosa', 'Fernando Po', 'Eva', 'Drouin', 'Dembia', 'Delagoa', 'Cote de Malaguette (runs through to Cape Palmas on Windward Coast)', 'Costa Leste Occidental', 'Costa de Africa (mainland coast around S Tome/Principe)', 'Vigo', 'Tybee Island', 'Dois Rios', 'Coanza River', 'Chama', 'Casnasonis (location undetermined)', 'Casamance', 'Seville', 'Puerto de Plata', 'Monte Christi', 'Honduras', 'Roanoke', 'Cape Mole', 'Cape Logas (location undetermined)', 'Orinoko', 'Morant Bay', 'British Americas', 'Brazil', 'Bundy', 'Nuevitas', 'Rio Grande do Norte', 'Bilbay', 'Caibarien', 'Santa Catarina', 'Guiana', 'Asia e Africa', 'Arguim', 'Andony', 'Amokou', 'Ambona', 'Alecuba', 'Albreda', 'Aghway', 'Tortuga', 'Saint-Pierre', 'Potomac river', 'Porto Seguro', 'Mosquito Shore', 'Middelburg', 'Fort-Royale', 'Bristol', 'Borburata', 'Bacuranao']\n"
     ]
    }
   ],
   "source": [
    "routes_df = pd.read_csv(\"./route-pairs-cleaned.csv\", index_col=False);\n",
    "\n",
    "source_hashmap = {}\n",
    "destination_hashmap = {}\n",
    "countries = []\n",
    "\n",
    "for index, row in routes_df.iterrows():\n",
    "    source = row['Source']\n",
    "    destination = row['Destination']\n",
    "    count = row['Count']\n",
    "\n",
    "    if source not in countries:\n",
    "        countries.append(source)\n",
    "    if destination not in countries:\n",
    "        countries.append(destination)\n",
    "\n",
    "    if source in source_hashmap :\n",
    "        source_hashmap[source] += count\n",
    "    else : \n",
    "        source_hashmap[source] = count\n",
    "\n",
    "    if destination in destination_hashmap :\n",
    "        destination_hashmap[destination] += count\n",
    "    else :\n",
    "        destination_hashmap[destination] = count\n",
    "\n",
    "source_keys = list(source_hashmap.keys())\n",
    "source_values = list(source_hashmap.values())\n",
    "\n",
    "destination_keys = list(destination_hashmap.keys())\n",
    "destination_values = list(destination_hashmap.values())\n",
    "\n",
    "source_data = {\n",
    "    'Source' : source_keys, \n",
    "    'Count': source_values\n",
    "}\n",
    "\n",
    "destination_data = {\n",
    "    'Destination' : destination_keys, \n",
    "    'Count': destination_values\n",
    "}\n",
    "\n",
    "country_data = {\n",
    "    'Source': countries\n",
    "}\n",
    "\n",
    "source_df = pd.DataFrame(source_data)\n",
    "destination_df = pd.DataFrame(destination_data)\n",
    "# print(countries)\n",
    "\n",
    "# country_df =pd.DataFrame(country_data)\n",
    "# country_df.to_csv('./country_data.csv', index=False)\n",
    "# source_df.to_csv('./source_routes_data.csv', index=False)\n",
    "# destination_df.to_csv('./destination_routes_data.csv', index=False)\n"
   ]
  },
  {
   "cell_type": "code",
   "execution_count": 69,
   "metadata": {},
   "outputs": [
    {
     "name": "stdout",
     "output_type": "stream",
     "text": [
      "United States                                42\n",
      "Brazil                                       39\n",
      "Uncertain                                    34\n",
      "Multiple                                     27\n",
      "Cuba                                         25\n",
      "                                             ..\n",
      "Argentina & Uruguay                           1\n",
      "Suriname, Guyana (possibly French Guiana)     1\n",
      "Sint Maarten                                  1\n",
      "Tanzania or Kenya (Mombasa)                   1\n",
      "United Kingdom (England)                      1\n",
      "Name: Modern Country, Length: 98, dtype: int64\n"
     ]
    }
   ],
   "source": [
    "countries_df = pd.read_csv(\"./country_data.dsv\", sep='|', index_col=False);\n",
    "print(countries_df['Modern Country'].value_counts());\n",
    "# countries_df.to_csv('./country_data.csv', sep=',', index=False);\n",
    "# Multiple might be an issue but Uncertain seems fine."
   ]
  },
  {
   "cell_type": "code",
   "execution_count": 104,
   "metadata": {},
   "outputs": [],
   "source": [
    "destination_df = pd.read_csv(\"./output_data/week4/destination_routes_data.csv\", index_col=False);\n",
    "source_df = pd.read_csv(\"./output_data/week4/source_routes_data.csv\", index_col=False);\n",
    "countries_df = pd.read_csv('./output_data/week4/country_data.csv', index_col=False)\n",
    "\n",
    "\n",
    "country_hashmap = {}\n",
    "for index, row in source_df.iterrows():\n",
    "    source = row['Source']\n",
    "    count = row['Count']\n",
    "    country = countries_df[countries_df['Original'] == source]['Modern Country']\n",
    "    if not country.empty:  \n",
    "        country_name = country.iloc[0]  \n",
    "\n",
    "    if country_name in country_hashmap :\n",
    "        country_hashmap[country_name] += count\n",
    "    else : \n",
    "        country_hashmap[country_name] = count\n",
    "\n",
    "for index, row in destination_df.iterrows():\n",
    "    destination = row['Destination']\n",
    "    count = row['Count']\n",
    "    country = countries_df[countries_df['Original'] == destination]['Modern Country']\n",
    "    if not country.empty:  \n",
    "        country_name = country.iloc[0]  \n",
    "\n",
    "    if country_name in country_hashmap :\n",
    "        country_hashmap[country_name] += count\n",
    "    else :\n",
    "        country_hashmap[country_name] = count\n",
    "\n",
    "country_keys = list(country_hashmap.keys())\n",
    "country_values = list(country_hashmap.values())\n",
    "\n",
    "country_data = {\n",
    "    'Source' : country_keys, \n",
    "    'Count': country_values\n",
    "}\n",
    "\n",
    "count_df = pd.DataFrame(country_data)\n",
    "count_df = count_df.sort_values(by=['Count'], ascending=False)\n",
    "count_df.to_csv('./country_count_data.csv', index=False)\n"
   ]
  },
  {
   "cell_type": "code",
   "execution_count": 110,
   "metadata": {},
   "outputs": [],
   "source": [
    "country_count_df = pd.read_csv('./country_count_data@5.csv', index_col=False)\n",
    "countries_df = pd.read_csv('./multiples.csv', index_col=False)\n",
    "\n"
   ]
  },
  {
   "cell_type": "markdown",
   "metadata": {},
   "source": [
    "We've cleaned up the data for the choropleth but now we need to do the same for the routes."
   ]
  }
 ],
 "metadata": {
  "kernelspec": {
   "display_name": "Python 3",
   "language": "python",
   "name": "python3"
  },
  "language_info": {
   "codemirror_mode": {
    "name": "ipython",
    "version": 3
   },
   "file_extension": ".py",
   "mimetype": "text/x-python",
   "name": "python",
   "nbconvert_exporter": "python",
   "pygments_lexer": "ipython3",
   "version": "3.10.7"
  }
 },
 "nbformat": 4,
 "nbformat_minor": 2
}
